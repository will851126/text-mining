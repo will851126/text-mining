{
 "cells": [
  {
   "cell_type": "code",
   "execution_count": null,
   "metadata": {},
   "outputs": [],
   "source": [
    "import jieba\n",
    "from sklearn.feature_extraction.text import CountVectorizer\n",
    "from sklearn.feature_extraction.text import TfidfVectorizer"
   ]
  },
  {
   "cell_type": "code",
   "execution_count": null,
   "metadata": {},
   "outputs": [],
   "source": [
    "jieba.set_dictionary('dict.txt.big')"
   ]
  },
  {
   "cell_type": "markdown",
   "metadata": {},
   "source": [
    "### Documents"
   ]
  },
  {
   "cell_type": "code",
   "execution_count": null,
   "metadata": {},
   "outputs": [],
   "source": [
    "documents = ['文字探勘指的是從非結構化的文字中，萃取出有用的重要資訊或知識。',\n",
    "             '資訊檢索指的是從資訊資源集合獲得與資訊需求相關的資訊資源的活動。',\n",
    "             '搜尋可以基於全文或其他基於內容的索引。',\n",
    "             '自然語言認知和理解，讓電腦把輸入的語言變成有意思的符號和關係，然後根據目的再處理。',\n",
    "             '東吳大學是以教學為主、研究兼重之綜合大學，擁有外雙溪、城中兩校區，設有人文社會、外國語文、理、法、商及巨量資料管理等六個學院，共26個系所、學位學程。']\n",
    "segments = [' '.join(jieba.cut(d)) for d in documents]\n",
    "print('documents', documents)\n",
    "print('segments', segments)"
   ]
  },
  {
   "cell_type": "markdown",
   "metadata": {},
   "source": [
    "### Another documents"
   ]
  },
  {
   "cell_type": "code",
   "execution_count": null,
   "metadata": {},
   "outputs": [],
   "source": [
    "new_documents = ['詞嵌入是自然語言處理中語言模型與表徵學習技術的統稱。',\n",
    "                 '東吳大學掌握趨勢，瞄準未來，跨院系合作，首創成立「巨量資料管理學院」，培養符合企業需求的巨量資料領域專業人才，期許本學院成為國內巨量資料人才的培訓基地，無縫接軌校園的人才培訓與企業的實務需求。']\n",
    "new_segments = [' '.join(jieba.cut(d)) for d in new_documents]\n",
    "print('new documents', new_documents)\n",
    "print('new segments', new_segments)"
   ]
  },
  {
   "cell_type": "markdown",
   "metadata": {},
   "source": [
    "## Bag-of-Word Matrix Apporach"
   ]
  },
  {
   "cell_type": "code",
   "execution_count": null,
   "metadata": {},
   "outputs": [],
   "source": [
    "# create bag-of-word model and fit the documents\n",
    "vectorizer = CountVectorizer(binary=True)\n",
    "print('vectorizer', vectorizer)\n",
    "\n",
    "vectorizer.fit(segments)\n",
    "print('Number of vocabulary', len(vectorizer.vocabulary_))\n",
    "print('Vocabulary', vectorizer.vocabulary_)\n",
    "print('feature name', vectorizer.get_feature_names())"
   ]
  },
  {
   "cell_type": "code",
   "execution_count": null,
   "metadata": {},
   "outputs": [],
   "source": [
    "# transform the documents\n",
    "sparse_bag_of_words = vectorizer.transform(segments)\n",
    "print('Sparse matrix', sparse_bag_of_words)\n",
    "\n",
    "dense_bag_of_words = sparse_bag_of_words.toarray()\n",
    "print('Dense matrix', dense_bag_of_words)\n",
    "\n",
    "print('Matrix shape', dense_bag_of_words.shape)"
   ]
  },
  {
   "cell_type": "code",
   "execution_count": null,
   "metadata": {},
   "outputs": [],
   "source": [
    "# transform the new documents\n",
    "new_sparse_bag_of_words = vectorizer.transform(new_segments)\n",
    "new_dense_bag_of_words = new_sparse_bag_of_words.toarray()\n",
    "print('New dense matrix', new_dense_bag_of_words)"
   ]
  },
  {
   "cell_type": "markdown",
   "metadata": {},
   "source": [
    "## tf Matrix Apporach"
   ]
  },
  {
   "cell_type": "code",
   "execution_count": null,
   "metadata": {},
   "outputs": [],
   "source": [
    "# create bag-of-word model and fit the documents\n",
    "vectorizer = CountVectorizer()\n",
    "print('vectorizer', vectorizer)\n",
    "\n",
    "vectorizer.fit(segments)\n",
    "print('Number of vocabulary', len(vectorizer.vocabulary_))\n",
    "print('Vocabulary', vectorizer.vocabulary_)\n",
    "print('feature name', vectorizer.get_feature_names())"
   ]
  },
  {
   "cell_type": "code",
   "execution_count": null,
   "metadata": {},
   "outputs": [],
   "source": [
    "# transform the documents\n",
    "dense_bag_of_words = vectorizer.transform(segments).toarray()\n",
    "print('Dense matrix', dense_bag_of_words)\n",
    "\n",
    "print('Matrix shape', dense_bag_of_words.shape)"
   ]
  },
  {
   "cell_type": "code",
   "execution_count": null,
   "metadata": {},
   "outputs": [],
   "source": [
    "# transform the new documents\n",
    "new_sparse_bag_of_words = vectorizer.transform(new_segments)\n",
    "new_dense_bag_of_words = new_sparse_bag_of_words.toarray()\n",
    "print('New dense matrix', new_dense_bag_of_words)"
   ]
  },
  {
   "cell_type": "markdown",
   "metadata": {},
   "source": [
    "## tf-idf Matrix Apporach"
   ]
  },
  {
   "cell_type": "code",
   "execution_count": null,
   "metadata": {},
   "outputs": [],
   "source": [
    "# create bag-of-word model and fit the documents\n",
    "vectorizer = TfidfVectorizer()\n",
    "print('vectorizer', vectorizer)\n",
    "\n",
    "vectorizer.fit(segments)\n",
    "print('Number of vocabulary', len(vectorizer.vocabulary_))\n",
    "print('Vocabulary', vectorizer.vocabulary_)\n",
    "print('feature name', vectorizer.get_feature_names())"
   ]
  },
  {
   "cell_type": "code",
   "execution_count": null,
   "metadata": {},
   "outputs": [],
   "source": [
    "# transform the documents\n",
    "dense_bag_of_words = vectorizer.transform(segments).toarray()\n",
    "print('Dense matrix', dense_bag_of_words)\n",
    "\n",
    "print('Matrix shape', dense_bag_of_words.shape)"
   ]
  },
  {
   "cell_type": "code",
   "execution_count": null,
   "metadata": {},
   "outputs": [],
   "source": [
    "# transform the new documents\n",
    "new_sparse_bag_of_words = vectorizer.transform(new_segments)\n",
    "new_dense_bag_of_words = new_sparse_bag_of_words.toarray()\n",
    "print('New dense matrix', new_dense_bag_of_words)"
   ]
  },
  {
   "cell_type": "code",
   "execution_count": null,
   "metadata": {},
   "outputs": [],
   "source": []
  }
 ],
 "metadata": {
  "kernelspec": {
   "display_name": "Python 3",
   "language": "python",
   "name": "python3"
  },
  "language_info": {
   "codemirror_mode": {
    "name": "ipython",
    "version": 3
   },
   "file_extension": ".py",
   "mimetype": "text/x-python",
   "name": "python",
   "nbconvert_exporter": "python",
   "pygments_lexer": "ipython3",
   "version": "3.6.7"
  }
 },
 "nbformat": 4,
 "nbformat_minor": 2
}
